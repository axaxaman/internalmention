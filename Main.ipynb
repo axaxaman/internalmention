{
 "cells": [
  {
   "cell_type": "code",
   "execution_count": 2,
   "metadata": {
    "collapsed": false
   },
   "outputs": [],
   "source": [
    "import httplib2\n",
    "from BeautifulSoup import BeautifulSoup, SoupStrainer\n",
    "from pprint import pprint\n",
    "import json\n",
    "\n",
    "class Link():\n",
    "    def getName(self):\n",
    "       return self.name\n",
    "\n",
    "    def getWatched(self):\n",
    "        return self.watched\n",
    "    \n",
    "    def setWatched(self):\n",
    "        self.watched = True \n",
    "    \n",
    "    def getDict(self):\n",
    "        return self.dict\n",
    "    \n",
    "    def addToDict(self, where, how):\n",
    "        self.dict[where] = how;\n",
    "    \n",
    "    def toJSON(self):\n",
    "        return json.dumps(self, default=lambda o: o.__dict__, \n",
    "            sort_keys=True, indent=4)\n",
    "\n",
    "    def __init__(self, name, title, h1, description, where, how):\n",
    "       self.name = name\n",
    "       self.title = title\n",
    "       self.h1 = h1\n",
    "       self.description = description\n",
    "       self.watched = False \n",
    "       self.dict = dict()\n",
    "       self.dict[where] = how;\n",
    "\n",
    "def getFirstNotWatchedLink(dict):\n",
    "    for x in dict:\n",
    "        if (not dict[x].getWatched()):\n",
    "            return x\n",
    "    return None\n",
    "\n",
    "def addNewLink(name, title, h1,  description, where, how):\n",
    "    try:\n",
    "        links[name].addToDict(where, how)\n",
    "    except KeyError, e:\n",
    "        object = Link(name, title, h1, description,  where, how) \n",
    "        links[object.getName()] = object"
   ]
  },
  {
   "cell_type": "code",
   "execution_count": 7,
   "metadata": {
    "collapsed": false
   },
   "outputs": [],
   "source": [
    "http = httplib2.Http()\n",
    "base_url = 'http://localhost:9000'\n",
    "cur_url = '/'\n",
    "host = \"localhost\"\n",
    "links = dict() \n",
    "title = \"\"\n",
    "h1 = \"\"\n",
    "description = \"\"\n",
    "\n",
    "addNewLink(\"/\", \"/\", \"/\", \"/\", \"/\", \"/\")\n",
    "\n",
    "\n",
    "while getFirstNotWatchedLink(links):\n",
    "    cur_url = getFirstNotWatchedLink(links)\n",
    "    status, response = http.request(base_url+cur_url)\n",
    "        \n",
    "    soup = BeautifulSoup(response)\n",
    "    title = soup.title.string\n",
    "    h1 = soup.find('h1')\n",
    "    if (h1):\n",
    "        h1 = h1.string\n",
    "    description = soup.findAll(attrs={\"name\":\"description\"}) \n",
    "    if (description):\n",
    "        try:\n",
    "            description = description[0]['content'].encode('utf-8')\n",
    "        except KeyError, e:\n",
    "            description = \"\"\n",
    "        \n",
    "    for link in BeautifulSoup(response, parseOnlyThese=SoupStrainer('a')):\n",
    "        if ( link.get(\"href\") and not link.get(\"href\").startswith('#') and not link.get(\"href\").startswith('http') and not link.get(\"href\").startswith('//') and not link.get(\"href\").startswith('tel') and not link.get(\"href\").startswith('mailto') ):\n",
    "            str = link.string\n",
    "            addNewLink(link.get(\"href\"), title, h1, description, cur_url, str )\n",
    "    links[cur_url].setWatched()\n",
    "\n",
    "file = open(host+'.js',\"w\") \n",
    " \n",
    "file.write(\"var data = [\")\n",
    "for x in links:\n",
    "        file.write(links[x].toJSON()) \n",
    "        file.write(\",\")\n",
    "file.write(\"]\")\n",
    "file.close() \n",
    "\n",
    "    \n",
    "    \n"
   ]
  },
  {
   "cell_type": "code",
   "execution_count": null,
   "metadata": {
    "collapsed": true
   },
   "outputs": [],
   "source": []
  },
  {
   "cell_type": "code",
   "execution_count": null,
   "metadata": {
    "collapsed": true
   },
   "outputs": [],
   "source": []
  }
 ],
 "metadata": {
  "anaconda-cloud": {},
  "kernelspec": {
   "display_name": "Python [default]",
   "language": "python",
   "name": "python2"
  },
  "language_info": {
   "codemirror_mode": {
    "name": "ipython",
    "version": 2
   },
   "file_extension": ".py",
   "mimetype": "text/x-python",
   "name": "python",
   "nbconvert_exporter": "python",
   "pygments_lexer": "ipython2",
   "version": "2.7.12"
  }
 },
 "nbformat": 4,
 "nbformat_minor": 1
}
